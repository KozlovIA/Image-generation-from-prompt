{
 "cells": [
  {
   "cell_type": "code",
   "execution_count": 1,
   "metadata": {},
   "outputs": [
    {
     "name": "stderr",
     "output_type": "stream",
     "text": [
      "c:\\Users\\Igorexy\\anaconda3\\lib\\site-packages\\scipy\\__init__.py:146: UserWarning: A NumPy version >=1.16.5 and <1.23.0 is required for this version of SciPy (detected version 1.26.0\n",
      "  warnings.warn(f\"A NumPy version >={np_minversion} and <{np_maxversion}\"\n"
     ]
    }
   ],
   "source": [
    "from PIL import Image\n",
    "import numpy as np\n",
    "from func import *\n",
    "import os\n",
    "from sklearn.feature_extraction.text import TfidfTransformer, TfidfVectorizer\n",
    "import numpy as np\n",
    "import tensorflow as tf\n",
    "from keras.models import Sequential\n",
    "from keras.layers import Dense"
   ]
  },
  {
   "cell_type": "code",
   "execution_count": 2,
   "metadata": {},
   "outputs": [],
   "source": [
    "# Откройте изображение с помощью Pillow\n",
    "image = Image.open('dataset/Идет.jpeg')\n",
    "\n",
    "# Преобразуйте изображение в черно-белое\n",
    "bw_image = image.convert('L')\n",
    "\n",
    "# Преобразуйте изображение в матрицу numpy\n",
    "bw_array = np.array(bw_image)\n",
    "\n",
    "# Создайте матрицу из нулей и единиц\n",
    "binary_matrix = (bw_array < 128).astype(int)\n",
    "\n",
    "# Теперь binary_matrix содержит вашу матрицу из нулей и единиц,\n",
    "# где единицы соответствуют черным пикселям\n",
    "\n",
    "# Вы можете сохранить эту матрицу в файл или продолжить работу с ней в коде\n"
   ]
  },
  {
   "cell_type": "code",
   "execution_count": 3,
   "metadata": {},
   "outputs": [],
   "source": [
    "# # Откройте изображение\n",
    "# image = Image.open('dataset/Смотрит влево 01.jpg')\n",
    "\n",
    "# # Преобразуйте изображение в черно-белое\n",
    "# bw_image = image.convert(mode='1')\n",
    "\n",
    "# # Преобразуйте изображение в массив numpy\n",
    "# bw_array = np.array(image, dtype=np.int16)/255\n",
    "\n",
    "# # Матрица bw_array будет содержать 0 (белый пиксель) и 1 (черный пиксель)\n",
    "# print(bw_array)\n"
   ]
  },
  {
   "cell_type": "code",
   "execution_count": 4,
   "metadata": {},
   "outputs": [],
   "source": [
    "# # Преобразуйте матрицу в изображение\n",
    "# bw_image = Image.fromarray(abs(binary_matrix-1).astype('uint8') * 255)\n",
    "\n",
    "# # Сохраните изображение в формате JPG\n",
    "# bw_image.save('новое_изображение.jpg')"
   ]
  },
  {
   "cell_type": "code",
   "execution_count": 5,
   "metadata": {},
   "outputs": [],
   "source": [
    "path = 'dataset'\n",
    "files = os.listdir(path)\n",
    "\n",
    "output = []\n",
    "for file in files:\n",
    "    image = Image.open('dataset/' + file)\n",
    "\n",
    "    # Преобразуйте изображение в черно-белое\n",
    "    bw_image = image.convert('L')\n",
    "\n",
    "    # Преобразуйте изображение в матрицу numpy\n",
    "    bw_array = np.array(bw_image)\n",
    "\n",
    "    # Создайте матрицу из нулей и единиц\n",
    "    binary_matrix = (bw_array < 128).astype(int)\n",
    "    # output.append(abs(binary_matrix-1))\n",
    "    output.append(binary_matrix)\n",
    "\n",
    "files = [file.split('.')[0] for file in files]"
   ]
  },
  {
   "cell_type": "code",
   "execution_count": 6,
   "metadata": {},
   "outputs": [],
   "source": [
    "stop_words = ['01']\n",
    "for i in range(len(files)):\n",
    "    for s_w in stop_words:\n",
    "        files[i] = files[i].replace(s_w, '')\n",
    "img_name = lemmatize(files)\n",
    "\n",
    "vect = TfidfVectorizer(use_idf=True)\n",
    "tf_idf = vect.fit_transform(img_name).toarray()"
   ]
  },
  {
   "cell_type": "code",
   "execution_count": 7,
   "metadata": {},
   "outputs": [
    {
     "name": "stdout",
     "output_type": "stream",
     "text": [
      "['влево' 'вправо' 'идти' 'красться' 'приземляться' 'смотреть']\n",
      "[[0.         0.         1.         0.         0.         0.        ]\n",
      " [0.         0.         0.         1.         0.         0.        ]\n",
      " [0.         0.         0.         0.         1.         0.        ]\n",
      " [0.82219037 0.         0.         0.         0.         0.56921261]\n",
      " [0.         0.7640961  0.         0.         0.         0.64510243]\n",
      " [0.         0.7640961  0.         0.         0.         0.64510243]]\n"
     ]
    }
   ],
   "source": [
    "words = vect.get_feature_names_out()\n",
    "print(words)\n",
    "print(tf_idf)"
   ]
  },
  {
   "cell_type": "code",
   "execution_count": 8,
   "metadata": {},
   "outputs": [
    {
     "name": "stdout",
     "output_type": "stream",
     "text": [
      "6 (125, 125)\n"
     ]
    }
   ],
   "source": [
    "print(len(output), output[0].shape)\n",
    "y_output = np.array([img.flatten() for img in output])"
   ]
  },
  {
   "cell_type": "code",
   "execution_count": 9,
   "metadata": {},
   "outputs": [
    {
     "name": "stdout",
     "output_type": "stream",
     "text": [
      "125\n",
      "125\n",
      "125\n",
      "125\n",
      "125\n",
      "125\n"
     ]
    },
    {
     "data": {
      "text/plain": [
       "[None, None, None, None, None, None]"
      ]
     },
     "execution_count": 9,
     "metadata": {},
     "output_type": "execute_result"
    }
   ],
   "source": [
    "[print(len(output[i])) for i in range(len(output))]"
   ]
  },
  {
   "cell_type": "code",
   "execution_count": 10,
   "metadata": {},
   "outputs": [
    {
     "name": "stdout",
     "output_type": "stream",
     "text": [
      "WARNING:tensorflow:From C:\\Users\\Igorexy\\AppData\\Local\\Temp\\ipykernel_11452\\981234723.py:12: The name tf.keras.backend.set_session is deprecated. Please use tf.compat.v1.keras.backend.set_session instead.\n",
      "\n"
     ]
    }
   ],
   "source": [
    "# Установите желаемое количество ядер процессора\n",
    "num_cores = 2  # Замените этот числовой параметр на количество ядер, которое вы хотите использовать\n",
    "\n",
    "# Создайте объект сессии TensorFlow\n",
    "config = tf.compat.v1.ConfigProto(intra_op_parallelism_threads=num_cores,\n",
    "                                  inter_op_parallelism_threads=num_cores,\n",
    "                                  allow_soft_placement=True,\n",
    "                                  device_count={'CPU': num_cores})\n",
    "\n",
    "# Примените конфигурацию к сессии TensorFlow\n",
    "session = tf.compat.v1.Session(config=config)\n",
    "tf.compat.v1.keras.backend.set_session(session)\n",
    "\n",
    "# Теперь ваша нейронная сеть Keras будет использовать указанное количество ядер процессора"
   ]
  },
  {
   "cell_type": "code",
   "execution_count": 11,
   "metadata": {},
   "outputs": [],
   "source": [
    "input_dim = len(vect.get_feature_names_out())\n",
    "\n",
    "# Создаем модель\n",
    "model = Sequential()\n",
    "\n",
    "# Добавляем слои\n",
    "model.add(Dense(units=10, input_dim=input_dim, activation='relu'))\n",
    "# model.add(Dense(units=16, activation='relu'))\n",
    "model.add(Dense(units=32, activation='relu'))\n",
    "# model.add(Dense(units=64, activation='relu'))\n",
    "model.add(Dense(units=128, activation='relu'))\n",
    "# model.add(Dense(units=256, activation='relu'))\n",
    "model.add(Dense(units=512, activation='relu'))\n",
    "model.add(Dense(units=1024, activation='relu'))\n",
    "model.add(Dense(units=4096, activation='relu'))\n",
    "model.add(Dense(units=8192, activation='relu'))\n",
    "# model.add(Dense(units=65536, activation='relu'))\n",
    "model.add(Dense(units=len(y_output[0]), activation='linear')) \n",
    "\n",
    "# Компилируем модель\n",
    "model.compile(optimizer='adam',\n",
    "              loss='mean_squared_error',\n",
    "              metrics=['mean_squared_error', 'mean_absolute_error'])"
   ]
  },
  {
   "cell_type": "code",
   "execution_count": 12,
   "metadata": {},
   "outputs": [
    {
     "name": "stdout",
     "output_type": "stream",
     "text": [
      "Epoch 1/70\n",
      "1/1 [==============================] - 5s 5s/step - loss: 0.2278 - mean_squared_error: 0.2278 - mean_absolute_error: 0.2295 - val_loss: 0.2648 - val_mean_squared_error: 0.2648 - val_mean_absolute_error: 0.2670\n",
      "Epoch 2/70\n",
      "1/1 [==============================] - 2s 2s/step - loss: 0.2260 - mean_squared_error: 0.2260 - mean_absolute_error: 0.2292 - val_loss: 0.2618 - val_mean_squared_error: 0.2618 - val_mean_absolute_error: 0.2682\n",
      "Epoch 3/70\n",
      "1/1 [==============================] - 3s 3s/step - loss: 0.2214 - mean_squared_error: 0.2214 - mean_absolute_error: 0.2302 - val_loss: 0.2502 - val_mean_squared_error: 0.2502 - val_mean_absolute_error: 0.2716\n",
      "Epoch 4/70\n",
      "1/1 [==============================] - 2s 2s/step - loss: 0.2039 - mean_squared_error: 0.2039 - mean_absolute_error: 0.2332 - val_loss: 0.2114 - val_mean_squared_error: 0.2114 - val_mean_absolute_error: 0.2821\n",
      "Epoch 5/70\n",
      "1/1 [==============================] - 2s 2s/step - loss: 0.1488 - mean_squared_error: 0.1488 - mean_absolute_error: 0.2397 - val_loss: 0.1819 - val_mean_squared_error: 0.1819 - val_mean_absolute_error: 0.3052\n",
      "Epoch 6/70\n",
      "1/1 [==============================] - 2s 2s/step - loss: 0.1630 - mean_squared_error: 0.1630 - mean_absolute_error: 0.2665 - val_loss: 0.1729 - val_mean_squared_error: 0.1729 - val_mean_absolute_error: 0.2879\n",
      "Epoch 7/70\n",
      "1/1 [==============================] - 2s 2s/step - loss: 0.1099 - mean_squared_error: 0.1099 - mean_absolute_error: 0.2350 - val_loss: 0.1907 - val_mean_squared_error: 0.1907 - val_mean_absolute_error: 0.2778\n",
      "Epoch 8/70\n",
      "1/1 [==============================] - 2s 2s/step - loss: 0.1232 - mean_squared_error: 0.1232 - mean_absolute_error: 0.2300 - val_loss: 0.1976 - val_mean_squared_error: 0.1976 - val_mean_absolute_error: 0.2704\n",
      "Epoch 9/70\n",
      "1/1 [==============================] - 2s 2s/step - loss: 0.1308 - mean_squared_error: 0.1308 - mean_absolute_error: 0.2216 - val_loss: 0.1925 - val_mean_squared_error: 0.1925 - val_mean_absolute_error: 0.2658\n",
      "Epoch 10/70\n",
      "1/1 [==============================] - 2s 2s/step - loss: 0.1242 - mean_squared_error: 0.1242 - mean_absolute_error: 0.2130 - val_loss: 0.1800 - val_mean_squared_error: 0.1800 - val_mean_absolute_error: 0.2647\n",
      "Epoch 11/70\n",
      "1/1 [==============================] - 2s 2s/step - loss: 0.1114 - mean_squared_error: 0.1114 - mean_absolute_error: 0.2074 - val_loss: 0.1690 - val_mean_squared_error: 0.1690 - val_mean_absolute_error: 0.2680\n",
      "Epoch 12/70\n",
      "1/1 [==============================] - 2s 2s/step - loss: 0.1091 - mean_squared_error: 0.1091 - mean_absolute_error: 0.2127 - val_loss: 0.1661 - val_mean_squared_error: 0.1661 - val_mean_absolute_error: 0.2727\n",
      "Epoch 13/70\n",
      "1/1 [==============================] - 2s 2s/step - loss: 0.1093 - mean_squared_error: 0.1093 - mean_absolute_error: 0.2168 - val_loss: 0.1691 - val_mean_squared_error: 0.1691 - val_mean_absolute_error: 0.2761\n",
      "Epoch 14/70\n",
      "1/1 [==============================] - 2s 2s/step - loss: 0.0942 - mean_squared_error: 0.0942 - mean_absolute_error: 0.2070 - val_loss: 0.1785 - val_mean_squared_error: 0.1785 - val_mean_absolute_error: 0.2789\n",
      "Epoch 15/70\n",
      "1/1 [==============================] - 2s 2s/step - loss: 0.0882 - mean_squared_error: 0.0882 - mean_absolute_error: 0.2032 - val_loss: 0.1860 - val_mean_squared_error: 0.1860 - val_mean_absolute_error: 0.2810\n",
      "Epoch 16/70\n",
      "1/1 [==============================] - 2s 2s/step - loss: 0.0841 - mean_squared_error: 0.0841 - mean_absolute_error: 0.1957 - val_loss: 0.1874 - val_mean_squared_error: 0.1874 - val_mean_absolute_error: 0.2839\n",
      "Epoch 17/70\n",
      "1/1 [==============================] - 2s 2s/step - loss: 0.0731 - mean_squared_error: 0.0731 - mean_absolute_error: 0.1794 - val_loss: 0.1865 - val_mean_squared_error: 0.1865 - val_mean_absolute_error: 0.2893\n",
      "Epoch 18/70\n",
      "1/1 [==============================] - 2s 2s/step - loss: 0.0613 - mean_squared_error: 0.0613 - mean_absolute_error: 0.1575 - val_loss: 0.1992 - val_mean_squared_error: 0.1992 - val_mean_absolute_error: 0.2998\n",
      "Epoch 19/70\n",
      "1/1 [==============================] - 2s 2s/step - loss: 0.0592 - mean_squared_error: 0.0592 - mean_absolute_error: 0.1443 - val_loss: 0.2444 - val_mean_squared_error: 0.2444 - val_mean_absolute_error: 0.3179\n",
      "Epoch 20/70\n",
      "1/1 [==============================] - 2s 2s/step - loss: 0.0662 - mean_squared_error: 0.0662 - mean_absolute_error: 0.1664 - val_loss: 0.2478 - val_mean_squared_error: 0.2478 - val_mean_absolute_error: 0.3189\n",
      "Epoch 21/70\n",
      "1/1 [==============================] - 2s 2s/step - loss: 0.0612 - mean_squared_error: 0.0612 - mean_absolute_error: 0.1620 - val_loss: 0.2329 - val_mean_squared_error: 0.2329 - val_mean_absolute_error: 0.3068\n",
      "Epoch 22/70\n",
      "1/1 [==============================] - 2s 2s/step - loss: 0.0581 - mean_squared_error: 0.0581 - mean_absolute_error: 0.1490 - val_loss: 0.2238 - val_mean_squared_error: 0.2238 - val_mean_absolute_error: 0.2990\n",
      "Epoch 23/70\n",
      "1/1 [==============================] - 2s 2s/step - loss: 0.0565 - mean_squared_error: 0.0565 - mean_absolute_error: 0.1474 - val_loss: 0.2169 - val_mean_squared_error: 0.2169 - val_mean_absolute_error: 0.2980\n",
      "Epoch 24/70\n",
      "1/1 [==============================] - 2s 2s/step - loss: 0.0534 - mean_squared_error: 0.0534 - mean_absolute_error: 0.1431 - val_loss: 0.2099 - val_mean_squared_error: 0.2099 - val_mean_absolute_error: 0.2993\n",
      "Epoch 25/70\n",
      "1/1 [==============================] - 2s 2s/step - loss: 0.0533 - mean_squared_error: 0.0533 - mean_absolute_error: 0.1438 - val_loss: 0.2046 - val_mean_squared_error: 0.2046 - val_mean_absolute_error: 0.2995\n",
      "Epoch 26/70\n",
      "1/1 [==============================] - 2s 2s/step - loss: 0.0553 - mean_squared_error: 0.0553 - mean_absolute_error: 0.1465 - val_loss: 0.2027 - val_mean_squared_error: 0.2027 - val_mean_absolute_error: 0.2976\n",
      "Epoch 27/70\n",
      "1/1 [==============================] - 2s 2s/step - loss: 0.0525 - mean_squared_error: 0.0525 - mean_absolute_error: 0.1426 - val_loss: 0.2033 - val_mean_squared_error: 0.2033 - val_mean_absolute_error: 0.2951\n",
      "Epoch 28/70\n",
      "1/1 [==============================] - 2s 2s/step - loss: 0.0476 - mean_squared_error: 0.0476 - mean_absolute_error: 0.1358 - val_loss: 0.2048 - val_mean_squared_error: 0.2048 - val_mean_absolute_error: 0.2935\n",
      "Epoch 29/70\n",
      "1/1 [==============================] - 2s 2s/step - loss: 0.0447 - mean_squared_error: 0.0447 - mean_absolute_error: 0.1307 - val_loss: 0.2069 - val_mean_squared_error: 0.2069 - val_mean_absolute_error: 0.2932\n",
      "Epoch 30/70\n",
      "1/1 [==============================] - 2s 2s/step - loss: 0.0421 - mean_squared_error: 0.0421 - mean_absolute_error: 0.1244 - val_loss: 0.2109 - val_mean_squared_error: 0.2109 - val_mean_absolute_error: 0.2948\n",
      "Epoch 31/70\n",
      "1/1 [==============================] - 2s 2s/step - loss: 0.0377 - mean_squared_error: 0.0377 - mean_absolute_error: 0.1158 - val_loss: 0.2171 - val_mean_squared_error: 0.2171 - val_mean_absolute_error: 0.2974\n",
      "Epoch 32/70\n",
      "1/1 [==============================] - 2s 2s/step - loss: 0.0329 - mean_squared_error: 0.0329 - mean_absolute_error: 0.1097 - val_loss: 0.2218 - val_mean_squared_error: 0.2218 - val_mean_absolute_error: 0.2986\n",
      "Epoch 33/70\n",
      "1/1 [==============================] - 2s 2s/step - loss: 0.0292 - mean_squared_error: 0.0292 - mean_absolute_error: 0.1022 - val_loss: 0.2224 - val_mean_squared_error: 0.2224 - val_mean_absolute_error: 0.2974\n",
      "Epoch 34/70\n",
      "1/1 [==============================] - 2s 2s/step - loss: 0.0271 - mean_squared_error: 0.0271 - mean_absolute_error: 0.0925 - val_loss: 0.2221 - val_mean_squared_error: 0.2221 - val_mean_absolute_error: 0.2961\n",
      "Epoch 35/70\n",
      "1/1 [==============================] - 2s 2s/step - loss: 0.0276 - mean_squared_error: 0.0276 - mean_absolute_error: 0.0930 - val_loss: 0.2214 - val_mean_squared_error: 0.2214 - val_mean_absolute_error: 0.2950\n",
      "Epoch 36/70\n",
      "1/1 [==============================] - 2s 2s/step - loss: 0.0290 - mean_squared_error: 0.0290 - mean_absolute_error: 0.0976 - val_loss: 0.2184 - val_mean_squared_error: 0.2184 - val_mean_absolute_error: 0.2927\n",
      "Epoch 37/70\n",
      "1/1 [==============================] - 2s 2s/step - loss: 0.0280 - mean_squared_error: 0.0280 - mean_absolute_error: 0.0960 - val_loss: 0.2135 - val_mean_squared_error: 0.2135 - val_mean_absolute_error: 0.2902\n",
      "Epoch 38/70\n",
      "1/1 [==============================] - 2s 2s/step - loss: 0.0251 - mean_squared_error: 0.0251 - mean_absolute_error: 0.0911 - val_loss: 0.2084 - val_mean_squared_error: 0.2084 - val_mean_absolute_error: 0.2889\n",
      "Epoch 39/70\n",
      "1/1 [==============================] - 2s 2s/step - loss: 0.0224 - mean_squared_error: 0.0224 - mean_absolute_error: 0.0839 - val_loss: 0.2043 - val_mean_squared_error: 0.2043 - val_mean_absolute_error: 0.2883\n",
      "Epoch 40/70\n",
      "1/1 [==============================] - 2s 2s/step - loss: 0.0211 - mean_squared_error: 0.0211 - mean_absolute_error: 0.0785 - val_loss: 0.2005 - val_mean_squared_error: 0.2005 - val_mean_absolute_error: 0.2874\n",
      "Epoch 41/70\n",
      "1/1 [==============================] - 2s 2s/step - loss: 0.0205 - mean_squared_error: 0.0205 - mean_absolute_error: 0.0783 - val_loss: 0.1981 - val_mean_squared_error: 0.1981 - val_mean_absolute_error: 0.2861\n",
      "Epoch 42/70\n",
      "1/1 [==============================] - 2s 2s/step - loss: 0.0192 - mean_squared_error: 0.0192 - mean_absolute_error: 0.0769 - val_loss: 0.1984 - val_mean_squared_error: 0.1984 - val_mean_absolute_error: 0.2847\n",
      "Epoch 43/70\n",
      "1/1 [==============================] - 2s 2s/step - loss: 0.0172 - mean_squared_error: 0.0172 - mean_absolute_error: 0.0723 - val_loss: 0.2001 - val_mean_squared_error: 0.2001 - val_mean_absolute_error: 0.2837\n",
      "Epoch 44/70\n",
      "1/1 [==============================] - 2s 2s/step - loss: 0.0154 - mean_squared_error: 0.0154 - mean_absolute_error: 0.0676 - val_loss: 0.2001 - val_mean_squared_error: 0.2001 - val_mean_absolute_error: 0.2827\n",
      "Epoch 45/70\n",
      "1/1 [==============================] - 2s 2s/step - loss: 0.0137 - mean_squared_error: 0.0137 - mean_absolute_error: 0.0638 - val_loss: 0.1974 - val_mean_squared_error: 0.1974 - val_mean_absolute_error: 0.2812\n",
      "Epoch 46/70\n",
      "1/1 [==============================] - 2s 2s/step - loss: 0.0120 - mean_squared_error: 0.0120 - mean_absolute_error: 0.0619 - val_loss: 0.1947 - val_mean_squared_error: 0.1947 - val_mean_absolute_error: 0.2802\n",
      "Epoch 47/70\n",
      "1/1 [==============================] - 2s 2s/step - loss: 0.0107 - mean_squared_error: 0.0107 - mean_absolute_error: 0.0594 - val_loss: 0.1939 - val_mean_squared_error: 0.1939 - val_mean_absolute_error: 0.2797\n",
      "Epoch 48/70\n",
      "1/1 [==============================] - 2s 2s/step - loss: 0.0093 - mean_squared_error: 0.0093 - mean_absolute_error: 0.0568 - val_loss: 0.1945 - val_mean_squared_error: 0.1945 - val_mean_absolute_error: 0.2792\n",
      "Epoch 49/70\n",
      "1/1 [==============================] - 2s 2s/step - loss: 0.0074 - mean_squared_error: 0.0074 - mean_absolute_error: 0.0518 - val_loss: 0.1942 - val_mean_squared_error: 0.1942 - val_mean_absolute_error: 0.2780\n",
      "Epoch 50/70\n",
      "1/1 [==============================] - 2s 2s/step - loss: 0.0053 - mean_squared_error: 0.0053 - mean_absolute_error: 0.0426 - val_loss: 0.1912 - val_mean_squared_error: 0.1912 - val_mean_absolute_error: 0.2752\n",
      "Epoch 51/70\n",
      "1/1 [==============================] - 2s 2s/step - loss: 0.0038 - mean_squared_error: 0.0038 - mean_absolute_error: 0.0361 - val_loss: 0.1876 - val_mean_squared_error: 0.1876 - val_mean_absolute_error: 0.2718\n",
      "Epoch 52/70\n",
      "1/1 [==============================] - 2s 2s/step - loss: 0.0029 - mean_squared_error: 0.0029 - mean_absolute_error: 0.0329 - val_loss: 0.1859 - val_mean_squared_error: 0.1859 - val_mean_absolute_error: 0.2702\n",
      "Epoch 53/70\n",
      "1/1 [==============================] - 2s 2s/step - loss: 0.0024 - mean_squared_error: 0.0024 - mean_absolute_error: 0.0323 - val_loss: 0.1872 - val_mean_squared_error: 0.1872 - val_mean_absolute_error: 0.2707\n",
      "Epoch 54/70\n",
      "1/1 [==============================] - 2s 2s/step - loss: 0.0022 - mean_squared_error: 0.0022 - mean_absolute_error: 0.0304 - val_loss: 0.1893 - val_mean_squared_error: 0.1893 - val_mean_absolute_error: 0.2721\n",
      "Epoch 55/70\n",
      "1/1 [==============================] - 2s 2s/step - loss: 0.0020 - mean_squared_error: 0.0020 - mean_absolute_error: 0.0281 - val_loss: 0.1897 - val_mean_squared_error: 0.1897 - val_mean_absolute_error: 0.2722\n",
      "Epoch 56/70\n",
      "1/1 [==============================] - 2s 2s/step - loss: 0.0019 - mean_squared_error: 0.0019 - mean_absolute_error: 0.0269 - val_loss: 0.1884 - val_mean_squared_error: 0.1884 - val_mean_absolute_error: 0.2707\n",
      "Epoch 57/70\n",
      "1/1 [==============================] - 2s 2s/step - loss: 0.0016 - mean_squared_error: 0.0016 - mean_absolute_error: 0.0248 - val_loss: 0.1871 - val_mean_squared_error: 0.1871 - val_mean_absolute_error: 0.2693\n",
      "Epoch 58/70\n",
      "1/1 [==============================] - 2s 2s/step - loss: 0.0011 - mean_squared_error: 0.0011 - mean_absolute_error: 0.0209 - val_loss: 0.1871 - val_mean_squared_error: 0.1871 - val_mean_absolute_error: 0.2692\n",
      "Epoch 59/70\n",
      "1/1 [==============================] - 2s 2s/step - loss: 8.3768e-04 - mean_squared_error: 8.3768e-04 - mean_absolute_error: 0.0196 - val_loss: 0.1875 - val_mean_squared_error: 0.1875 - val_mean_absolute_error: 0.2697\n",
      "Epoch 60/70\n",
      "1/1 [==============================] - 2s 2s/step - loss: 0.0011 - mean_squared_error: 0.0011 - mean_absolute_error: 0.0212 - val_loss: 0.1869 - val_mean_squared_error: 0.1869 - val_mean_absolute_error: 0.2680\n",
      "Epoch 61/70\n",
      "1/1 [==============================] - 2s 2s/step - loss: 0.0020 - mean_squared_error: 0.0020 - mean_absolute_error: 0.0281 - val_loss: 0.1864 - val_mean_squared_error: 0.1864 - val_mean_absolute_error: 0.2673\n",
      "Epoch 62/70\n",
      "1/1 [==============================] - 2s 2s/step - loss: 0.0029 - mean_squared_error: 0.0029 - mean_absolute_error: 0.0281 - val_loss: 0.1862 - val_mean_squared_error: 0.1862 - val_mean_absolute_error: 0.2663\n",
      "Epoch 63/70\n",
      "1/1 [==============================] - 2s 2s/step - loss: 0.0013 - mean_squared_error: 0.0013 - mean_absolute_error: 0.0228 - val_loss: 0.1878 - val_mean_squared_error: 0.1878 - val_mean_absolute_error: 0.2684\n",
      "Epoch 64/70\n",
      "1/1 [==============================] - 2s 2s/step - loss: 8.4252e-04 - mean_squared_error: 8.4252e-04 - mean_absolute_error: 0.0191 - val_loss: 0.1897 - val_mean_squared_error: 0.1897 - val_mean_absolute_error: 0.2709\n",
      "Epoch 65/70\n",
      "1/1 [==============================] - 2s 2s/step - loss: 0.0018 - mean_squared_error: 0.0018 - mean_absolute_error: 0.0260 - val_loss: 0.1899 - val_mean_squared_error: 0.1899 - val_mean_absolute_error: 0.2705\n",
      "Epoch 66/70\n",
      "1/1 [==============================] - 2s 2s/step - loss: 9.7690e-04 - mean_squared_error: 9.7690e-04 - mean_absolute_error: 0.0198 - val_loss: 0.1895 - val_mean_squared_error: 0.1895 - val_mean_absolute_error: 0.2695\n",
      "Epoch 67/70\n",
      "1/1 [==============================] - 2s 2s/step - loss: 6.7464e-04 - mean_squared_error: 6.7464e-04 - mean_absolute_error: 0.0166 - val_loss: 0.1891 - val_mean_squared_error: 0.1891 - val_mean_absolute_error: 0.2693\n",
      "Epoch 68/70\n",
      "1/1 [==============================] - 2s 2s/step - loss: 0.0012 - mean_squared_error: 0.0012 - mean_absolute_error: 0.0215 - val_loss: 0.1884 - val_mean_squared_error: 0.1884 - val_mean_absolute_error: 0.2690\n",
      "Epoch 69/70\n",
      "1/1 [==============================] - 2s 2s/step - loss: 4.5906e-04 - mean_squared_error: 4.5906e-04 - mean_absolute_error: 0.0134 - val_loss: 0.1874 - val_mean_squared_error: 0.1874 - val_mean_absolute_error: 0.2683\n",
      "Epoch 70/70\n",
      "1/1 [==============================] - 2s 2s/step - loss: 5.4526e-04 - mean_squared_error: 5.4526e-04 - mean_absolute_error: 0.0140 - val_loss: 0.1862 - val_mean_squared_error: 0.1862 - val_mean_absolute_error: 0.2671\n"
     ]
    },
    {
     "data": {
      "text/plain": [
       "<keras.callbacks.History at 0x25360ac6f40>"
      ]
     },
     "execution_count": 12,
     "metadata": {},
     "output_type": "execute_result"
    }
   ],
   "source": [
    "model.fit(tf_idf, y_output, epochs=70, batch_size=32, validation_split=0.2)"
   ]
  },
  {
   "cell_type": "code",
   "execution_count": 15,
   "metadata": {},
   "outputs": [],
   "source": [
    "# model.save(\"first_model_data6.h5\")"
   ]
  },
  {
   "cell_type": "code",
   "execution_count": 13,
   "metadata": {},
   "outputs": [],
   "source": [
    "text_prompt = 'крадется'"
   ]
  },
  {
   "cell_type": "code",
   "execution_count": 14,
   "metadata": {},
   "outputs": [
    {
     "name": "stdout",
     "output_type": "stream",
     "text": [
      "['влево' 'вправо' 'идти' 'красться' 'приземляться' 'смотреть']\n",
      "[[0. 0. 0. 1. 0. 0.]]\n",
      "1/1 [==============================] - 0s 226ms/step\n"
     ]
    }
   ],
   "source": [
    "# stop_words = ['01']\n",
    "# for i in range(len(files)):\n",
    "#     for s_w in stop_words:\n",
    "#         files[i] = files[i].replace(s_w, '')\n",
    "\n",
    "prompt = lemmatize([[text_prompt]])\n",
    "\n",
    "# vect = TfidfVectorizer(use_idf=True)\n",
    "tf_idf_prompt = vect.transform(prompt).toarray()\n",
    "\n",
    "words = vect.get_feature_names_out()\n",
    "print(words)\n",
    "print(tf_idf_prompt)\n",
    "\n",
    "generation = model.predict(tf_idf_prompt)\n",
    "generation = generation.reshape(125, 125)\n",
    "\n",
    "for i in range(len(generation)):\n",
    "    for j in range(len(generation[i])):\n",
    "        generation[i][j] = round(generation[i][j])\n",
    "\n",
    "inversing_gen = 1 - generation       \n",
    "\n",
    "# Преобразование бинарной матрицы обратно в изображение\n",
    "bw_image = Image.fromarray((inversing_gen * 255).astype(np.uint8), 'L')\n",
    "# Сохранение изображения в файл\n",
    "bw_image.save(f'output/{text_prompt}.jpg')"
   ]
  }
 ],
 "metadata": {
  "kernelspec": {
   "display_name": "Python 3 (ipykernel)",
   "language": "python",
   "name": "python3"
  },
  "language_info": {
   "codemirror_mode": {
    "name": "ipython",
    "version": 3
   },
   "file_extension": ".py",
   "mimetype": "text/x-python",
   "name": "python",
   "nbconvert_exporter": "python",
   "pygments_lexer": "ipython3",
   "version": "3.9.12"
  }
 },
 "nbformat": 4,
 "nbformat_minor": 2
}
